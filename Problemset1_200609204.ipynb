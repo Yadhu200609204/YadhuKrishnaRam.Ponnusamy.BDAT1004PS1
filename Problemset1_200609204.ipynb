{
 "cells": [
  {
   "cell_type": "code",
   "execution_count": null,
   "id": "f06ff760-d38a-4197-93b9-958560f481ed",
   "metadata": {},
   "outputs": [],
   "source": [
    "Question 1.\n",
    "What data type is each of the following C#\n",
    "\n",
    "5 -->int\n",
    "5.0-->double\n",
    "5 > 1-->bool\n",
    "'5'-->char\n",
    "5 * 2-->int (The resultant of the two operators will be 10,which is int)\n",
    "'5' * 2 -->int ( The character '5' will be converted to its ASCII Value which is 53.So ,the multiplication of both values will lead to an int value [106]) \n",
    "'5' + '2'-->int ( The sum of the character ASCII Value will be 103,which is an int )\n",
    "5 / 2-->int[]\n",
    "5 % 2-->int ( The modulus operator gives the remainder of 1 which is of int data type)\n",
    "{5, 2, 1}-->int \n",
    "5 == 3-->bool\n",
    "Pi (the number)-->double\n"
   ]
  },
  {
   "cell_type": "code",
   "execution_count": null,
   "id": "74f9bbad-c813-47a7-ab56-ba3697e741c9",
   "metadata": {},
   "outputs": [],
   "source": [
    "Question 2\n",
    "Write (and evaluate) C# expressions that answer these questions:"
   ]
  },
  {
   "cell_type": "code",
   "execution_count": null,
   "id": "39303078-d136-4b96-a31f-a4cbb7a3566f",
   "metadata": {},
   "outputs": [],
   "source": [
    "a. How many letters are there in 'Supercalifragilisticexpialidocious'?"
   ]
  },
  {
   "cell_type": "code",
   "execution_count": 2,
   "id": "ac98af30-c33a-4408-ad82-2a93e813a584",
   "metadata": {},
   "outputs": [
    {
     "name": "stdout",
     "output_type": "stream",
     "text": [
      "34\n"
     ]
    }
   ],
   "source": [
    "string word = \"Supercalifragilisticexpialidocious\";\n",
    "int Letters = word.Length;\n",
    "Console.WriteLine(Letters);\n"
   ]
  },
  {
   "cell_type": "code",
   "execution_count": null,
   "id": "382f1a84-9b1b-488c-8f1f-8d631a10f555",
   "metadata": {},
   "outputs": [],
   "source": [
    "b. Does 'Supercalifragilisticexpialidocious' contain 'ice' as a substring?"
   ]
  },
  {
   "cell_type": "code",
   "execution_count": 7,
   "id": "5f166fee-acab-4b49-b75c-53282a6b44a5",
   "metadata": {},
   "outputs": [
    {
     "name": "stdout",
     "output_type": "stream",
     "text": [
      "True\n"
     ]
    }
   ],
   "source": [
    "string word = \"Supercalifragilisticexpialidocious\";\n",
    "bool Ice = word.Contains(\"ice\");\n",
    "Console.WriteLine(Ice);"
   ]
  },
  {
   "cell_type": "code",
   "execution_count": null,
   "id": "b9ee0684-d311-4176-a7d4-965f6efa817f",
   "metadata": {},
   "outputs": [],
   "source": [
    "c.Which of the following words is the longest: Supercalifragilisticexpialidocious, Honorificabilitudinitatibus, or Bababadalgharaghtakamminarronnkonn?"
   ]
  },
  {
   "cell_type": "code",
   "execution_count": 12,
   "id": "da43ab41-1ca5-471a-9941-4b709cd926f8",
   "metadata": {},
   "outputs": [
    {
     "name": "stdout",
     "output_type": "stream",
     "text": [
      "Bababadalgharaghtakamminarronnkonn\n"
     ]
    }
   ],
   "source": [
    "string word1 = \"Supercalifragilisticexpialidocious\";\n",
    "string word2 = \"Honorificabilitudinitatibus\";\n",
    "string word3 = \"Bababadalgharaghtakamminarronnkonn\";\n",
    "\n",
    "string longWord = word1; \n",
    "\n",
    "\n",
    "if (word2.Length > longWord.Length || \n",
    "    (word2.Length == longWord.Length && string.Compare(word2, longWord) < 0))\n",
    "{\n",
    "    longWord = word2;\n",
    "}\n",
    "\n",
    "\n",
    "if (word3.Length > longWord.Length || \n",
    "    (word3.Length == longWord.Length && string.Compare(word3, longWord) < 0))\n",
    "{\n",
    "    longWord = word3;\n",
    "}\n",
    "\n",
    "Console.WriteLine(longWord);\n"
   ]
  },
  {
   "cell_type": "code",
   "execution_count": null,
   "id": "360e5d9f-98b2-4493-865d-115b10a3b3a5",
   "metadata": {},
   "outputs": [],
   "source": [
    "d.Which composer comes first in the dictionary: 'Berlioz', 'Borodin', 'Brian', 'Bartok', 'Bellini', 'Buxtehude', 'Bernstein'. Which one comes last?"
   ]
  },
  {
   "cell_type": "code",
   "execution_count": 17,
   "id": "5c992b01-ac89-4aee-a0e7-e98fed6730f9",
   "metadata": {},
   "outputs": [
    {
     "name": "stdout",
     "output_type": "stream",
     "text": [
      "The first composer in the dictionary is: Bartok\n",
      "The last composer in the dictionary is: Buxtehude\n"
     ]
    }
   ],
   "source": [
    "using System;\n",
    "\n",
    "string[] composers = { \"Berlioz\", \"Borodin\", \"Brian\", \"Bartok\", \"Bellini\", \"Buxtehude\", \"Bernstein\" };\n",
    "Array.Sort(composers);\n",
    "string firstComposer = composers[0]; \n",
    "string lastComposer = composers[composers.Length - 1]; \n",
    "\n",
    "Console.WriteLine(\"The first composer in the dictionary is: \" + firstComposer);\n",
    "Console.WriteLine(\"The last composer in the dictionary is: \" + lastComposer);\n"
   ]
  },
  {
   "cell_type": "code",
   "execution_count": null,
   "id": "986957db-d3d1-41e7-ba7d-a09a12ebf0df",
   "metadata": {},
   "outputs": [],
   "source": [
    "Question 3 C#\n",
    "3.Implement function triangleArea(a,b,c) that takes as input the lengths of the 3 sides of a triangle and returns the area of the triangle. By Heron's formula, the area of a triangle with side lengths a, b, and c is s(s − a)(s − b)(s − c), where\n",
    "s = (a + b + c)/2.\n",
    ">>> triangleArea(2,2,2) 1.7320508075688772"
   ]
  },
  {
   "cell_type": "code",
   "execution_count": 20,
   "id": "3e2c36ad-b65f-4080-b9a3-3c85317f34bc",
   "metadata": {},
   "outputs": [
    {
     "name": "stdout",
     "output_type": "stream",
     "text": [
      "The area of the triangle is: 1.7320508075688772\n"
     ]
    }
   ],
   "source": [
    "using System;\n",
    "\n",
    "double TriangleArea(double a, double b, double c)\n",
    "{\n",
    "    double s = (a + b + c) / 2;\n",
    "    double area = Math.Sqrt(s * (s - a) * (s - b) * (s - c));\n",
    "    return area;\n",
    "}\n",
    "\n",
    "double area = TriangleArea(2, 2, 2);\n",
    "Console.WriteLine(\"The area of the triangle is: \" + area);"
   ]
  },
  {
   "cell_type": "code",
   "execution_count": null,
   "id": "7a076f16-aa1c-4891-b75f-df1d53e584c8",
   "metadata": {},
   "outputs": [],
   "source": [
    "Question 4 C#\n",
    "Write a program in C# Sharp to separate odd and even integers in separate arrays. Go to the editor\n",
    "Test Data :\n",
    "Input the number of elements to be stored in the array :5 Input 5 elements in the array :\n",
    "element - 0 : 25\n",
    "element - 1 : 47\n",
    "element - 2 : 42\n",
    "element - 3 : 56\n",
    "element - 4 : 32\n",
    "    \n",
    "Expected Output:\n",
    "The Even elements are: 42 56 32\n",
    "The Odd elements are : 25 47"
   ]
  },
  {
   "cell_type": "code",
   "execution_count": 8,
   "id": "874901e1-891c-4579-9e93-a28831f005dd",
   "metadata": {},
   "outputs": [
    {
     "name": "stdout",
     "output_type": "stream",
     "text": [
      "The Even elements are: 42 56 32 \n",
      "The Odd elements are: 25 47 \n"
     ]
    }
   ],
   "source": [
    "using System;\n",
    "int[] inputArray = { 25, 47, 42, 56, 32 };\n",
    "int[] evenNumbers = new int[inputArray.Length];\n",
    "int[] oddNumbers = new int[inputArray.Length];\n",
    "int evenCount = 0, oddCount = 0;\n",
    "foreach (int num in inputArray)\n",
    "{\n",
    "    if (num % 2 == 0)\n",
    "    {\n",
    "        evenNumbers[evenCount++] = num;\n",
    "    }\n",
    "    else\n",
    "    {\n",
    "        oddNumbers[oddCount++] = num;\n",
    "    }\n",
    "}\n",
    "\n",
    "Console.Write(\"The Even elements are: \");\n",
    "for (int i = 0; i < evenCount; i++)\n",
    "{\n",
    "    Console.Write(evenNumbers[i] + \" \");\n",
    "}\n",
    "Console.WriteLine();\n",
    "Console.Write(\"The Odd elements are: \");\n",
    "for (int i = 0; i < oddCount; i++)\n",
    "{\n",
    "    Console.Write(oddNumbers[i] + \" \");\n",
    "}\n",
    "Console.WriteLine();\n"
   ]
  },
  {
   "cell_type": "code",
   "execution_count": null,
   "id": "4bc71879-7224-44ef-a5ce-d049b9088236",
   "metadata": {},
   "outputs": [],
   "source": [
    "Question 5 C#"
   ]
  },
  {
   "cell_type": "code",
   "execution_count": null,
   "id": "1459b3bd-f10c-4c60-9d7f-cfa727f40b16",
   "metadata": {},
   "outputs": [],
   "source": [
    "a. Write a function inside(x,y,x1,y1,x2,y2) that returns True or False depending on whether the point (x,y) lies in the rectangle with lower left corner (x1,y1) and upper right corner (x2,y2).\n",
    ">>> inside(1,1,0,0,2,3)\n",
    "True\n",
    ">>> inside(-1,-1,0,0,2,3)\n",
    "False"
   ]
  },
  {
   "cell_type": "code",
   "execution_count": null,
   "id": "59d4610a-6500-4b03-b70a-145d2541b3e6",
   "metadata": {},
   "outputs": [],
   "source": [
    "b.Use function inside() from part a. to write an expression that tests whether the point (1,1) lies in both of the following rectangles: one with lower left corner (0.3, 0.5) and upper right corner (1.1, 0.7) and the other with lower left corner (0.5, 0.2) and upper right corner (1.1, 2)."
   ]
  },
  {
   "cell_type": "code",
   "execution_count": 6,
   "id": "90dd4890-914f-43bf-b18f-f814444bfbb7",
   "metadata": {},
   "outputs": [
    {
     "name": "stdout",
     "output_type": "stream",
     "text": [
      "True\n",
      "False\n",
      "Point (1, 1) in first rectangle: False\n",
      "Point (1, 1) in second rectangle: True\n"
     ]
    }
   ],
   "source": [
    "using System;\n",
    "\n",
    "bool Inside(double x, double y, double x1, double y1, double x2, double y2)\n",
    "{\n",
    "    return (x >= x1 && x <= x2 && y >= y1 && y <= y2);\n",
    "}\n",
    "Console.WriteLine(Inside(1, 1, 0, 0, 2, 3)); \n",
    "Console.WriteLine(Inside(-1, -1, 0, 0, 2, 3)); \n",
    "bool inFirstRectangle = Inside(1, 1, 0.3, 0.5, 1.1, 0.7);\n",
    "bool inSecondRectangle = Inside(1, 1, 0.5, 0.2, 1.1, 2);\n",
    "\n",
    "Console.WriteLine($\"Point (1, 1) in first rectangle: {inFirstRectangle}\"); \n",
    "Console.WriteLine($\"Point (1, 1) in second rectangle: {inSecondRectangle}\"); \n"
   ]
  },
  {
   "cell_type": "code",
   "execution_count": null,
   "id": "d7847bb8-6c32-45a5-ad31-2741406b4759",
   "metadata": {},
   "outputs": [],
   "source": [
    "Question 6 Python\n",
    "6.You can turn a word into pig-Latin using the following two rules (simplified):\n",
    "• If the word starts with a consonant, move that letter to the end and append 'ay'. For example, 'happy' becomes 'appyhay' and 'pencil' becomes 'encilpay'.\n",
    "• If the word starts with a vowel, simply append 'way' to the end of the word. For example, 'enter' becomes 'enterway' and 'other' becomes 'otherway' . For our purposes, there are 5 vowels: a, e, i, o, u (so we count y as a consonant).\n",
    "Write a function pig() that takes a word (i.e., a string) as input and returns its pig- Latin form. Your function should still work if the input word contains upper case characters. Your output should always be lower case however.\n",
    ">>> pig('happy') 'appyhay'\n",
    ">>> pig('Enter') 'enterway'"
   ]
  },
  {
   "cell_type": "code",
   "execution_count": 1,
   "id": "a575f650-10e8-487a-9ccd-ddcc1f9c47ab",
   "metadata": {},
   "outputs": [
    {
     "name": "stdout",
     "output_type": "stream",
     "text": [
      "appyhay\n",
      "enterway\n"
     ]
    }
   ],
   "source": [
    "def pig(word):\n",
    "    lower_word = word.lower()\n",
    "    if lower_word[0] in 'aeiou':\n",
    "        return lower_word + 'way'\n",
    "    else:\n",
    "        return lower_word[1:] + lower_word[0] + 'ay'\n",
    "\n",
    "print(pig('happy'))  \n",
    "print(pig('Enter')) \n"
   ]
  },
  {
   "cell_type": "code",
   "execution_count": null,
   "id": "d5c8575d-2c77-4a90-bd37-5c9384806e1e",
   "metadata": {},
   "outputs": [],
   "source": [
    "Question 7 Python\n",
    "7.File bloodtype1.txt records blood-types of patients (A, B, AB, O or OO) at a clinic. Write a function bldcount() that reads the file with name name and reports (i.e., prints) how many patients there are in each bloodtype.\n",
    ">>> bldcount('bloodtype.txt')\n",
    "There are 10 patients of blood type A. There is one patient of blood type B. There are 10 patients of blood type AB. There are 12 patients of blood type O. There are no patients of blood type OO."
   ]
  },
  {
   "cell_type": "code",
   "execution_count": 9,
   "id": "efa6c680-88ef-4144-89d9-ca49c50bf57f",
   "metadata": {},
   "outputs": [
    {
     "name": "stdout",
     "output_type": "stream",
     "text": [
      "There are 10 patients of blood type A.\n",
      "There is one patient of blood type B.\n",
      "There are 10 patients of blood type AB.\n",
      "There are 12 patients of blood type O.\n",
      "There are no patients of blood type OO.\n"
     ]
    }
   ],
   "source": [
    "def bldcount(filename):\n",
    "    blood_types = ['A', 'B', 'AB', 'O', 'OO']\n",
    "    blood_count = {bt: 0 for bt in blood_types}\n",
    "    \n",
    "    with open(filename, 'r') as file:\n",
    "        blood_data = file.read().split() \n",
    "    for blood in blood_data:\n",
    "        if blood in blood_count:\n",
    "            blood_count[blood] += 1\n",
    "    for blood_type in blood_types:\n",
    "        count = blood_count[blood_type]\n",
    "        if count == 0:\n",
    "            print(f\"There are no patients of blood type {blood_type}.\")\n",
    "        elif count == 1:\n",
    "            print(f\"There is one patient of blood type {blood_type}.\")\n",
    "        else:\n",
    "            print(f\"There are {count} patients of blood type {blood_type}.\")\n",
    "\n",
    "bldcount('bloodtype1.txt')"
   ]
  },
  {
   "cell_type": "code",
   "execution_count": null,
   "id": "4fab883f-8ff2-41e2-bfef-22388fa5b88f",
   "metadata": {},
   "outputs": [],
   "source": [
    "8.Question 8 Python\n",
    "Write a function curconv() that takes as input:\n",
    "1. a currency represented using a string (e.g., 'JPY' for the Japanese Yen or 'EUR' for the Euro)\n",
    "2. an amount\n",
    "and then converts and returns the amount in US dollars.\n",
    ">>> curconv('EUR', 100)\n",
    "122.96544\n",
    ">>> curconv('JPY', 100)\n",
    "1.241401\n",
    "The currency rates you will need are stored in file currencies.txt:"
   ]
  },
  {
   "cell_type": "code",
   "execution_count": 7,
   "id": "597c73cd-2017-4901-9063-44b6346fff62",
   "metadata": {},
   "outputs": [
    {
     "name": "stdout",
     "output_type": "stream",
     "text": [
      "122.96544\n",
      "1.241401\n"
     ]
    }
   ],
   "source": [
    "def curconv(currency, amount):\n",
    "    rate_currency = {}\n",
    "    \n",
    "    with open('currencies.txt', 'r') as file:\n",
    "        lines = file.readlines()\n",
    "        for line in lines:\n",
    "            parts = line.split()\n",
    "            if len(parts) >= 2:\n",
    "                code = parts[0]\n",
    "                rate = float(parts[1])\n",
    "                rate_currency[code] = rate\n",
    "    \n",
    "    if currency in rate_currency:\n",
    "        return amount * rate_currency[currency]\n",
    "    else:\n",
    "        raise ValueError(\"Currency not found.\")\n",
    "print(curconv('EUR', 100))  \n",
    "print(curconv('JPY', 100))  \n"
   ]
  },
  {
   "cell_type": "code",
   "execution_count": null,
   "id": "9ce1b7ca-1a0b-484b-afb5-4da8682d12d5",
   "metadata": {},
   "outputs": [],
   "source": [
    "Question 9 Python\n",
    "9.Each of the following will cause an exception (an error). Identify what type of exception each will cause.\n",
    "Trying to add incompatible variables, as in adding 6 + ‘a’\n",
    "Referring to the 12th item of a list that has only 10 items\n",
    "Using a value that is out of range for a function’s input, such as calling math.sqrt(-1.0)\n",
    "Using an undeclared variable, such as print(x) when x has not been defined\n",
    "Trying to open a file that does not exist, such as mistyping the file name or looking in the wrong directory."
   ]
  },
  {
   "cell_type": "code",
   "execution_count": null,
   "id": "aed722dc-f130-4a2c-8f09-f3ed3cbe075e",
   "metadata": {},
   "outputs": [],
   "source": [
    "-->Trying to add incompatible variables, as in adding 6 + ‘a’\n",
    "Error : TypeError\n",
    "-->Referring to the 12th item of a list that has only 10 items\n",
    "Error : IndexError\n",
    "-->Using a value that is out of range for a function’s input, such as calling math.sqrt(-1.0)\n",
    "Error :ValueError                                     \n",
    "-->Using an undeclared variable, such as print(x) when x has not been defined\n",
    "Error : NameError                                     \n",
    "-->Trying to open a file that does not exist, such as mistyping the file name or looking in the wrong directory.\n",
    "Error : FileNotFoundError                                     "
   ]
  },
  {
   "cell_type": "code",
   "execution_count": null,
   "id": "507541bf-1905-4cc6-9570-24f8e1e943e9",
   "metadata": {},
   "outputs": [],
   "source": [
    "Question 10 Python\n",
    "10.Encryption is the process of hiding the meaning of a text by substituting letters in the message with other letters, according to some system. If the process is successful, no one but the intended recipient can understand the encrypted message. Cryptanalysis refers to attempts to undo the encryption, even if some details of the encryption are unknown (for example, if an encrypted message has been intercepted). The first step of cryptanalysis is often to build up a table of letter frequencies in the encrypted text. Assume that the string letters is already defined as 'abcdefghijklmnopqrstuvwxyz'. Write a function called frequencies() that takes a string as its only parameter, and returns a list of integers, showing the number of times each character appears in the text. Your function may ignore any characters that are not in letters.\n",
    ">>> frequencies('The quick red fox got bored and went home.') [1, 1, 1, 3, 5, 1, 1, 2, 1, 0, 1, 0, 1, 2, 4, 0, 1, 2, 0, 2,\n",
    "1, 0, 1, 1, 0, 0]\n",
    ">>> frequencies('apple')"
   ]
  },
  {
   "cell_type": "code",
   "execution_count": 4,
   "id": "fd96a53b-d2b1-4526-8984-7cfd9442bdd9",
   "metadata": {},
   "outputs": [
    {
     "name": "stdout",
     "output_type": "stream",
     "text": [
      "[1, 1, 1, 3, 5, 1, 1, 2, 1, 0, 1, 0, 1, 2, 4, 0, 1, 2, 0, 3, 1, 0, 1, 1, 0, 0]\n",
      "[1, 0, 0, 0, 1, 0, 0, 0, 0, 0, 0, 1, 0, 0, 0, 2, 0, 0, 0, 0, 0, 0, 0, 0, 0, 0]\n"
     ]
    }
   ],
   "source": [
    "def frequencies(text):\n",
    "    letters = 'abcdefghijklmnopqrstuvwxyz'\n",
    "    freq_count = [0] * 26  \n",
    "    text = text.lower()\n",
    "    for char in text:\n",
    "        if char in letters:  \n",
    "            index = letters.index(char)  \n",
    "            freq_count[index] += 1  \n",
    "            \n",
    "    return freq_count\n",
    "print(frequencies('The quick red fox got bored and went home.'))  \n",
    "print(frequencies('apple'))  "
   ]
  },
  {
   "cell_type": "code",
   "execution_count": null,
   "id": "925dc6fc-676c-4d99-9b57-0637b3c2c404",
   "metadata": {},
   "outputs": [],
   "source": []
  }
 ],
 "metadata": {
  "kernelspec": {
   "display_name": ".NET (C#)",
   "language": "C#",
   "name": ".net-csharp"
  },
  "language_info": {
   "file_extension": ".cs",
   "mimetype": "text/x-csharp",
   "name": "C#",
   "pygments_lexer": "csharp",
   "version": "12.0"
  }
 },
 "nbformat": 4,
 "nbformat_minor": 5
}
